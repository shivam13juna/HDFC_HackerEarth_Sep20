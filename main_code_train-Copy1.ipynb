{
 "cells": [
  {
   "cell_type": "code",
   "execution_count": 56,
   "metadata": {},
   "outputs": [],
   "source": [
    "import os\n",
    "import numpy as np\n",
    "import pandas as pd\n",
    "pd.options.display.float_format = '{:,.2f}'.format\n",
    "from sklearn.preprocessing import LabelEncoder, StandardScaler\n",
    "from sklearn.model_selection import train_test_split\n",
    "from sklearn.metrics import f1_score, accuracy_score\n",
    "from sklearn.linear_model import LogisticRegression, LinearRegression\n",
    "import lightgbm as lgb\n",
    "import xgboost as xgb\n",
    "from catboost import CatBoostClassifier, Pool\n",
    "import matplotlib.pyplot as plt\n",
    "from scipy import stats\n",
    "\n",
    "\n",
    "\n",
    "#Feature importance\n",
    "from sklearn.ensemble import RandomForestClassifier\n",
    "from sklearn.model_selection import StratifiedKFold\n",
    "from sklearn.preprocessing import MinMaxScaler\n",
    "\n",
    "\n",
    "\n",
    "#importing machine learning libraries\n",
    "import tensorflow as tf\n",
    "from tensorflow.keras.layers import Dense, LSTM, Input\n",
    "from tensorflow.keras.models import Model\n",
    "from tensorflow.keras.callbacks import EarlyStopping, ModelCheckpoint\n",
    "from tensorflow.python.framework.ops import disable_eager_execution\n",
    "\n",
    "disable_eager_execution()\n",
    "import pickle\n",
    "\n",
    "\n",
    "\n",
    "#Secondary imports\n",
    "import pandas_profiling as pp\n",
    "from scipy.stats import pearsonr\n",
    "import pickle\n",
    "\n",
    "\n",
    "%matplotlib inline"
   ]
  },
  {
   "cell_type": "markdown",
   "metadata": {},
   "source": [
    "## Reading Datasets"
   ]
  },
  {
   "cell_type": "code",
   "execution_count": 57,
   "metadata": {},
   "outputs": [
    {
     "name": "stderr",
     "output_type": "stream",
     "text": [
      "/usr/local/lib/python3.5/site-packages/IPython/core/interactiveshell.py:3058: DtypeWarning: Columns (746,835) have mixed types. Specify dtype option on import or set low_memory=False.\n",
      "  interactivity=interactivity, compiler=compiler, result=result)\n",
      "/usr/local/lib/python3.5/site-packages/IPython/core/interactiveshell.py:3058: DtypeWarning: Columns (700,731,740,752,761,789,811,820,829,841,850) have mixed types. Specify dtype option on import or set low_memory=False.\n",
      "  interactivity=interactivity, compiler=compiler, result=result)\n"
     ]
    }
   ],
   "source": [
    "train = pd.read_csv('train.csv')\n",
    "test = pd.read_csv('test.csv')\n",
    "sample = pd.read_csv('sample_submission.csv')\n",
    "\n",
    "cols = np.load('final_col.npy').tolist()"
   ]
  },
  {
   "cell_type": "code",
   "execution_count": 58,
   "metadata": {},
   "outputs": [
    {
     "data": {
      "text/plain": [
       "234"
      ]
     },
     "execution_count": 58,
     "metadata": {},
     "output_type": "execute_result"
    }
   ],
   "source": [
    "len(cols)"
   ]
  },
  {
   "cell_type": "code",
   "execution_count": 59,
   "metadata": {},
   "outputs": [],
   "source": [
    "remove = []\n",
    "\n",
    "for i in range(len(cols)):\n",
    "    value = (1 - train[train[cols[i]]!=0].shape[0]/train.shape[0]) * 100\n",
    "    if value > 60:\n",
    "        remove.append(cols[i])\n",
    "\n",
    "\n",
    "for i in range(len(remove)):\n",
    "    cols.remove(remove[i])"
   ]
  },
  {
   "cell_type": "markdown",
   "metadata": {},
   "source": [
    "### Finding missing values, and selecting  columns with less than 5% missing values"
   ]
  },
  {
   "cell_type": "code",
   "execution_count": 60,
   "metadata": {},
   "outputs": [],
   "source": [
    "seta = cols.copy()"
   ]
  },
  {
   "cell_type": "code",
   "execution_count": 61,
   "metadata": {},
   "outputs": [],
   "source": [
    "percent_missing = train[seta].isnull().sum() * 100 / len(train[seta])\n",
    "missing_value_df = pd.DataFrame({'column_name': train[seta].columns,\n",
    "                                 'percent_missing': percent_missing})\n",
    "\n",
    "missing_value_df.sort_values('percent_missing', ascending=False, inplace=True)\n",
    "missing_value_df.reset_index(inplace=True, drop=True)"
   ]
  },
  {
   "cell_type": "code",
   "execution_count": 62,
   "metadata": {},
   "outputs": [],
   "source": [
    "mis_col = missing_value_df[missing_value_df['percent_missing']<5].sort_values('percent_missing', ascending=False).column_name.values.tolist()"
   ]
  },
  {
   "cell_type": "code",
   "execution_count": 63,
   "metadata": {},
   "outputs": [
    {
     "data": {
      "text/plain": [
       "167"
      ]
     },
     "execution_count": 63,
     "metadata": {},
     "output_type": "execute_result"
    }
   ],
   "source": [
    "len(cols)"
   ]
  },
  {
   "cell_type": "code",
   "execution_count": 64,
   "metadata": {},
   "outputs": [
    {
     "data": {
      "text/plain": [
       "167"
      ]
     },
     "execution_count": 64,
     "metadata": {},
     "output_type": "execute_result"
    }
   ],
   "source": [
    "len(mis_col)"
   ]
  },
  {
   "cell_type": "code",
   "execution_count": 65,
   "metadata": {},
   "outputs": [
    {
     "name": "stderr",
     "output_type": "stream",
     "text": [
      "/usr/local/lib/python3.5/site-packages/sklearn/ensemble/forest.py:245: FutureWarning: The default value of n_estimators will change from 10 in version 0.20 to 100 in 0.22.\n",
      "  \"10 in version 0.20 to 100 in 0.22.\", FutureWarning)\n"
     ]
    },
    {
     "name": "stdout",
     "output_type": "stream",
     "text": [
      "         importance\n",
      "Col10          0.03\n",
      "Col11          0.03\n",
      "Col168         0.03\n",
      "Col186         0.02\n",
      "Col25          0.02\n",
      "Col202         0.02\n",
      "Col196         0.02\n",
      "Col26          0.02\n",
      "Col205         0.02\n",
      "Col182         0.02\n",
      "Col188         0.02\n",
      "Col198         0.02\n",
      "Col591         0.01\n",
      "Col189         0.01\n",
      "Col120         0.01\n",
      "Col51          0.01\n",
      "Col75          0.01\n",
      "Col68          0.01\n",
      "Col49          0.01\n",
      "Col1688        0.01\n",
      "Col1272        0.01\n",
      "Col58          0.01\n",
      "Col44          0.01\n",
      "Col47          0.01\n",
      "Col1025        0.01\n",
      "Col1072        0.01\n",
      "Col1210        0.01\n",
      "Col1212        0.01\n",
      "Col1028        0.01\n",
      "Col1026        0.01\n",
      "...             ...\n",
      "Col1073        0.00\n",
      "Col1239        0.00\n",
      "Col1711        0.00\n",
      "Col63          0.00\n",
      "Col88          0.00\n",
      "Col1081        0.00\n",
      "Col1231        0.00\n",
      "Col60          0.00\n",
      "Col1235        0.00\n",
      "Col1215        0.00\n",
      "Col1347        0.00\n",
      "Col1143        0.00\n",
      "Col64          0.00\n",
      "Col61          0.00\n",
      "Col1057        0.00\n",
      "Col1185        0.00\n",
      "Col1241        0.00\n",
      "Col1527        0.00\n",
      "Col89          0.00\n",
      "Col1305        0.00\n",
      "Col1056        0.00\n",
      "Col1265        0.00\n",
      "Col1229        0.00\n",
      "Col1253        0.00\n",
      "Col86          0.00\n",
      "Col1009        0.00\n",
      "Col1631        0.00\n",
      "Col1221        0.00\n",
      "Col1589        0.00\n",
      "Col34          0.00\n",
      "\n",
      "[167 rows x 1 columns]\n"
     ]
    }
   ],
   "source": [
    "rf = RandomForestClassifier()\n",
    "\n",
    "\n",
    "#Creating features from training dataset\n",
    "features1 = train[mis_col]\n",
    "\n",
    "\n",
    "targets = train['Col2']\n",
    "\n",
    "rf.fit(features1, targets) \n",
    "\n",
    "feature_importances = pd.DataFrame(rf.feature_importances_,\n",
    "                                   index = mis_col,\n",
    "                                    columns=['importance']).sort_values('importance',ascending=False)\n",
    "print(feature_importances)"
   ]
  },
  {
   "cell_type": "code",
   "execution_count": 66,
   "metadata": {},
   "outputs": [],
   "source": [
    "threshold = 0.001"
   ]
  },
  {
   "cell_type": "code",
   "execution_count": 67,
   "metadata": {},
   "outputs": [
    {
     "name": "stdout",
     "output_type": "stream",
     "text": [
      "167\n"
     ]
    }
   ],
   "source": [
    "thres_col = sorted(feature_importances[feature_importances.importance > threshold].reset_index()['index'].values.tolist(), key = lambda x: int(x[3:]))\n",
    "print(len(thres_col))"
   ]
  },
  {
   "cell_type": "code",
   "execution_count": 68,
   "metadata": {},
   "outputs": [],
   "source": [
    "thres_col.remove('Col32')\n",
    "\n",
    "thres_col.remove('Col33')"
   ]
  },
  {
   "cell_type": "code",
   "execution_count": 69,
   "metadata": {},
   "outputs": [],
   "source": [
    "thres_col.append('Col3')"
   ]
  },
  {
   "cell_type": "code",
   "execution_count": 70,
   "metadata": {},
   "outputs": [
    {
     "data": {
      "text/plain": [
       "<matplotlib.axes._subplots.AxesSubplot at 0x7f292c0b7400>"
      ]
     },
     "execution_count": 70,
     "metadata": {},
     "output_type": "execute_result"
    },
    {
     "data": {
      "image/png": "[encoded data removed]",
      "text/plain": [
       "<Figure size 432x288 with 2 Axes>"
      ]
     },
     "metadata": {
      "needs_background": "light"
     },
     "output_type": "display_data"
    }
   ],
   "source": [
    "fig, axs = plt.subplots(1,2)\n",
    "\n",
    "train['Col10'].plot(ax=axs[0])\n",
    "test['Col10'].plot(ax=axs[1])"
   ]
  },
  {
   "cell_type": "code",
   "execution_count": 71,
   "metadata": {},
   "outputs": [],
   "source": [
    "for i in thres_col:\n",
    "    if train[i].nunique() >= 11:\n",
    "        train[i] = train[i].ewm(span = 20).mean()\n",
    "        test[i] = test[i].ewm(span = 20).mean()"
   ]
  },
  {
   "cell_type": "markdown",
   "metadata": {},
   "source": [
    "## For lightgbm"
   ]
  },
  {
   "cell_type": "code",
   "execution_count": 72,
   "metadata": {},
   "outputs": [
    {
     "name": "stdout",
     "output_type": "stream",
     "text": [
      "hello 0\n",
      "hello 1\n",
      "hello 2\n",
      "hello 3\n",
      "hello 4\n",
      "Average accuracy was:  0.8983505950403533\n"
     ]
    }
   ],
   "source": [
    "lgbb = lgb.LGBMClassifier()\n",
    "# ctb = CatBoostClassifier(verbose=False)\n",
    "\n",
    "# xgbb = xgb.XGBClassifier()\n",
    "\n",
    "n_split = 5\n",
    "avg1 = 0\n",
    "avg2 = 0\n",
    "count=0\n",
    "\n",
    "skf = StratifiedKFold(n_splits = n_split, shuffle = True)\n",
    "\n",
    "for train_index, test_index in skf.split(train[thres_col], train['Col2']):\n",
    "    print(\"hello\", count)\n",
    "    count+=1\n",
    "   \n",
    "    trainx, testx = train[thres_col].iloc[train_index], train[thres_col].iloc[test_index]\n",
    "    trainy, testy = train['Col2'].iloc[train_index], train['Col2'].iloc[test_index]\n",
    "    \n",
    "    lgbb.fit(trainx, trainy)\n",
    "#     ctb.fit(trainx, trainy)\n",
    "    avg1 += accuracy_score(lgbb.predict(testx), testy)\n",
    "#     avg2 += accuracy_score(ctb.predict(testx), testy)\n",
    "\n",
    "\n",
    "print(\"Average accuracy was: \", avg1/n_split)#,\"and\", avg2/6)0"
   ]
  },
  {
   "cell_type": "markdown",
   "metadata": {},
   "source": [
    "## Logistic Regression"
   ]
  },
  {
   "cell_type": "code",
   "execution_count": 73,
   "metadata": {},
   "outputs": [
    {
     "data": {
      "text/plain": [
       "<matplotlib.collections.PathCollection at 0x7f292bfccba8>"
      ]
     },
     "execution_count": 73,
     "metadata": {},
     "output_type": "execute_result"
    },
    {
     "data": {
      "image/png": "[encoded data removed]",
      "text/plain": [
       "<Figure size 432x288 with 1 Axes>"
      ]
     },
     "metadata": {
      "needs_background": "light"
     },
     "output_type": "display_data"
    }
   ],
   "source": [
    "plt.scatter(lgbb.predict(testx), lgbb.predict(testx))"
   ]
  },
  {
   "cell_type": "code",
   "execution_count": 74,
   "metadata": {},
   "outputs": [
    {
     "name": "stdout",
     "output_type": "stream",
     "text": [
      "hello 0\n"
     ]
    },
    {
     "name": "stderr",
     "output_type": "stream",
     "text": [
      "/usr/local/lib/python3.5/site-packages/sklearn/linear_model/logistic.py:432: FutureWarning: Default solver will be changed to 'lbfgs' in 0.22. Specify a solver to silence this warning.\n",
      "  FutureWarning)\n"
     ]
    },
    {
     "name": "stdout",
     "output_type": "stream",
     "text": [
      "hello 1\n"
     ]
    },
    {
     "name": "stderr",
     "output_type": "stream",
     "text": [
      "/usr/local/lib/python3.5/site-packages/sklearn/linear_model/logistic.py:432: FutureWarning: Default solver will be changed to 'lbfgs' in 0.22. Specify a solver to silence this warning.\n",
      "  FutureWarning)\n"
     ]
    },
    {
     "name": "stdout",
     "output_type": "stream",
     "text": [
      "hello 2\n"
     ]
    },
    {
     "name": "stderr",
     "output_type": "stream",
     "text": [
      "/usr/local/lib/python3.5/site-packages/sklearn/linear_model/logistic.py:432: FutureWarning: Default solver will be changed to 'lbfgs' in 0.22. Specify a solver to silence this warning.\n",
      "  FutureWarning)\n"
     ]
    },
    {
     "name": "stdout",
     "output_type": "stream",
     "text": [
      "hello 3\n"
     ]
    },
    {
     "name": "stderr",
     "output_type": "stream",
     "text": [
      "/usr/local/lib/python3.5/site-packages/sklearn/linear_model/logistic.py:432: FutureWarning: Default solver will be changed to 'lbfgs' in 0.22. Specify a solver to silence this warning.\n",
      "  FutureWarning)\n"
     ]
    },
    {
     "name": "stdout",
     "output_type": "stream",
     "text": [
      "hello 4\n"
     ]
    },
    {
     "name": "stderr",
     "output_type": "stream",
     "text": [
      "/usr/local/lib/python3.5/site-packages/sklearn/linear_model/logistic.py:432: FutureWarning: Default solver will be changed to 'lbfgs' in 0.22. Specify a solver to silence this warning.\n",
      "  FutureWarning)\n"
     ]
    },
    {
     "name": "stdout",
     "output_type": "stream",
     "text": [
      "Average accuracy was:  0.8994920498439931\n"
     ]
    }
   ],
   "source": [
    "lgbb = LogisticRegression()\n",
    "# ctb = CatBoostClassifier(verbose=False)\n",
    "\n",
    "# xgbb = xgb.XGBClassifier()\n",
    "\n",
    "n_split = 5\n",
    "avg1 = 0\n",
    "avg2 = 0\n",
    "count=0\n",
    "\n",
    "skf = StratifiedKFold(n_splits = n_split, shuffle = True)\n",
    "\n",
    "for train_index, test_index in skf.split(train[thres_col], train['Col2']):\n",
    "    print(\"hello\", count)\n",
    "    count+=1\n",
    "   \n",
    "    trainx, testx = train[thres_col].iloc[train_index], train[thres_col].iloc[test_index]\n",
    "    trainy, testy = train['Col2'].iloc[train_index], train['Col2'].iloc[test_index]\n",
    "    \n",
    "    lgbb.fit(trainx, trainy)\n",
    "#     ctb.fit(trainx, trainy)\n",
    "    avg1 += accuracy_score(lgbb.predict(testx), testy)\n",
    "#     avg2 += accuracy_score(ctb.predict(testx), testy)\n",
    "\n",
    "\n",
    "print(\"Average accuracy was: \", avg1/n_split)#,\"and\", avg2/6)0"
   ]
  },
  {
   "cell_type": "code",
   "execution_count": 75,
   "metadata": {},
   "outputs": [],
   "source": [
    "from tensorflow.keras.models import Sequential\n",
    "from tensorflow.keras.layers import LSTM, Dense, Dropout, Masking, Embedding, GRU\n",
    "\n",
    "model = Sequential()\n",
    "\n",
    "# Embedding layer\n",
    "# Recurrent layer\n",
    "model.add(GRU(10, return_sequences=False, dropout=0.1, recurrent_dropout=0.1))\n",
    "\n",
    "# Fully connected layer\n",
    "model.add(Dense(2, activation='softmax'))\n",
    "# Compile the model\n",
    "model.compile(\n",
    "    optimizer='adam', loss='sparse_categorical_crossentropy', metrics=['accuracy'])\n"
   ]
  },
  {
   "cell_type": "code",
   "execution_count": 76,
   "metadata": {},
   "outputs": [],
   "source": [
    "train_data = train[thres_col].values\n",
    "train_target = train['Col2'].values"
   ]
  },
  {
   "cell_type": "code",
   "execution_count": 77,
   "metadata": {},
   "outputs": [],
   "source": [
    "data_X, data_Y = [], []\n",
    "for i in range(len(train_data) - 7):\n",
    "    # find the end of this pattern\n",
    "    end_ix = i + 0\n",
    "    out_end_ix = end_ix + 7\n",
    "    data_X.append(train_data[end_ix:out_end_ix, :])\n",
    "    data_Y.append(train_target[end_ix])"
   ]
  },
  {
   "cell_type": "code",
   "execution_count": 78,
   "metadata": {},
   "outputs": [],
   "source": [
    "data_X = np.array(data_X)\n",
    "data_Y = np.array(data_Y).reshape((-1, 1))"
   ]
  },
  {
   "cell_type": "code",
   "execution_count": 79,
   "metadata": {},
   "outputs": [
    {
     "data": {
      "text/plain": [
       "(17514, 7, 166)"
      ]
     },
     "execution_count": 79,
     "metadata": {},
     "output_type": "execute_result"
    }
   ],
   "source": [
    "data_X.shape"
   ]
  },
  {
   "cell_type": "code",
   "execution_count": 80,
   "metadata": {},
   "outputs": [
    {
     "data": {
      "text/plain": [
       "(17514, 1)"
      ]
     },
     "execution_count": 80,
     "metadata": {},
     "output_type": "execute_result"
    }
   ],
   "source": [
    "data_Y.shape"
   ]
  },
  {
   "cell_type": "code",
   "execution_count": 81,
   "metadata": {},
   "outputs": [
    {
     "data": {
      "text/plain": [
       "(17521, 166)"
      ]
     },
     "execution_count": 81,
     "metadata": {},
     "output_type": "execute_result"
    }
   ],
   "source": [
    "train_data.shape"
   ]
  },
  {
   "cell_type": "code",
   "execution_count": 82,
   "metadata": {},
   "outputs": [
    {
     "name": "stderr",
     "output_type": "stream",
     "text": [
      "WARNING: Logging before flag parsing goes to stderr.\n",
      "W0928 15:39:00.094004 139818031677568 deprecation.py:506] From /usr/local/lib/python3.5/site-packages/tensorflow_core/python/ops/resource_variable_ops.py:1630: calling BaseResourceVariable.__init__ (from tensorflow.python.ops.resource_variable_ops) with constraint is deprecated and will be removed in a future version.\n",
      "Instructions for updating:\n",
      "If using Keras pass *_constraint arguments to layers.\n"
     ]
    },
    {
     "name": "stdout",
     "output_type": "stream",
     "text": [
      "Train on 17514 samples\n",
      "17514/17514 [==============================] - 3s 187us/sample - loss: 0.3715 - accuracy: 0.8706\n"
     ]
    },
    {
     "data": {
      "text/plain": [
       "<tensorflow.python.keras.callbacks.History at 0x7f292d5834a8>"
      ]
     },
     "execution_count": 82,
     "metadata": {},
     "output_type": "execute_result"
    }
   ],
   "source": [
    "model.fit(data_X, data_Y)"
   ]
  },
  {
   "cell_type": "code",
   "execution_count": 83,
   "metadata": {},
   "outputs": [
    {
     "data": {
      "text/plain": [
       "(17514, 2)"
      ]
     },
     "execution_count": 83,
     "metadata": {},
     "output_type": "execute_result"
    }
   ],
   "source": [
    "model.predict(data_X).shape"
   ]
  },
  {
   "cell_type": "code",
   "execution_count": 89,
   "metadata": {},
   "outputs": [
    {
     "name": "stderr",
     "output_type": "stream",
     "text": [
      "W0928 15:46:26.526282 139818031677568 callbacks.py:862] `period` argument is deprecated. Please use `save_freq` to specify the frequency in number of samples seen.\n"
     ]
    }
   ],
   "source": [
    "path_to_weigths = './current.hdf5'\n",
    "checkpoint = ModelCheckpoint(path_to_weigths, monitor='val_loss', verbose=1,\n",
    "                                save_best_only=True, save_weights_only=False, mode='auto', period=1)\n",
    "early_stopping = EarlyStopping(monitor='val_loss',patience=5, verbose=0)\n"
   ]
  },
  {
   "cell_type": "code",
   "execution_count": 93,
   "metadata": {},
   "outputs": [
    {
     "name": "stdout",
     "output_type": "stream",
     "text": [
      "hello 0\n",
      "Train on 14010 samples, validate on 3504 samples\n",
      "Epoch 1/100\n",
      "14010/14010 [==============================] - 3s 188us/sample - loss: 0.3276 - accuracy: 0.8995 - val_loss: 0.3269 - val_accuracy: 0.8993\n",
      "Epoch 2/100\n",
      "14010/14010 [==============================] - 3s 184us/sample - loss: 0.3273 - accuracy: 0.8995 - val_loss: 0.3268 - val_accuracy: 0.8993\n",
      "Epoch 3/100\n",
      "14010/14010 [==============================] - 3s 184us/sample - loss: 0.3271 - accuracy: 0.8995 - val_loss: 0.3266 - val_accuracy: 0.8993\n",
      "Epoch 4/100\n",
      "14010/14010 [==============================] - 3s 183us/sample - loss: 0.3270 - accuracy: 0.8995 - val_loss: 0.3265 - val_accuracy: 0.8993\n",
      "Epoch 5/100\n",
      "14010/14010 [==============================] - 3s 189us/sample - loss: 0.3265 - accuracy: 0.8995 - val_loss: 0.3271 - val_accuracy: 0.8993\n",
      "Epoch 6/100\n",
      "14010/14010 [==============================] - 3s 182us/sample - loss: 0.3266 - accuracy: 0.8995 - val_loss: 0.3269 - val_accuracy: 0.8993\n",
      "Epoch 7/100\n",
      "14010/14010 [==============================] - 3s 183us/sample - loss: 0.3273 - accuracy: 0.8995 - val_loss: 0.3270 - val_accuracy: 0.8993\n",
      "Epoch 8/100\n",
      "14010/14010 [==============================] - 3s 184us/sample - loss: 0.3263 - accuracy: 0.8995 - val_loss: 0.3268 - val_accuracy: 0.8993\n",
      "Epoch 9/100\n",
      "14010/14010 [==============================] - 3s 185us/sample - loss: 0.3265 - accuracy: 0.8995 - val_loss: 0.3273 - val_accuracy: 0.8993\n",
      "hello 1\n",
      "Train on 14011 samples, validate on 3503 samples\n",
      "Epoch 1/100\n",
      "14011/14011 [==============================] - 3s 186us/sample - loss: 0.3270 - accuracy: 0.8994 - val_loss: 0.3266 - val_accuracy: 0.8995\n",
      "Epoch 2/100\n",
      "14011/14011 [==============================] - 3s 184us/sample - loss: 0.3267 - accuracy: 0.8994 - val_loss: 0.3265 - val_accuracy: 0.8995\n",
      "Epoch 3/100\n",
      "14011/14011 [==============================] - 3s 186us/sample - loss: 0.3268 - accuracy: 0.8994 - val_loss: 0.3268 - val_accuracy: 0.8995\n",
      "Epoch 4/100\n",
      "14011/14011 [==============================] - 3s 185us/sample - loss: 0.3268 - accuracy: 0.8994 - val_loss: 0.3267 - val_accuracy: 0.8995\n",
      "Epoch 5/100\n",
      "14011/14011 [==============================] - 3s 185us/sample - loss: 0.3265 - accuracy: 0.8994 - val_loss: 0.3271 - val_accuracy: 0.8995\n",
      "Epoch 6/100\n",
      "14011/14011 [==============================] - 3s 189us/sample - loss: 0.3269 - accuracy: 0.8994 - val_loss: 0.3266 - val_accuracy: 0.8995\n",
      "Epoch 7/100\n",
      "14011/14011 [==============================] - 2s 174us/sample - loss: 0.3267 - accuracy: 0.8994 - val_loss: 0.3265 - val_accuracy: 0.8995\n",
      "Epoch 8/100\n",
      "14011/14011 [==============================] - 3s 200us/sample - loss: 0.3266 - accuracy: 0.8994 - val_loss: 0.3271 - val_accuracy: 0.8995\n",
      "Epoch 9/100\n",
      "14011/14011 [==============================] - 3s 204us/sample - loss: 0.3267 - accuracy: 0.8994 - val_loss: 0.3267 - val_accuracy: 0.8995\n",
      "Epoch 10/100\n",
      "14011/14011 [==============================] - 3s 179us/sample - loss: 0.3267 - accuracy: 0.8995 - val_loss: 0.3268 - val_accuracy: 0.8995\n",
      "Epoch 11/100\n",
      "14011/14011 [==============================] - 3s 179us/sample - loss: 0.3267 - accuracy: 0.8994 - val_loss: 0.3266 - val_accuracy: 0.8995\n",
      "Epoch 12/100\n",
      "14011/14011 [==============================] - 2s 173us/sample - loss: 0.3266 - accuracy: 0.8994 - val_loss: 0.3265 - val_accuracy: 0.8995\n",
      "hello 2\n",
      "Train on 14011 samples, validate on 3503 samples\n",
      "Epoch 1/100\n",
      "14011/14011 [==============================] - 2s 172us/sample - loss: 0.3267 - accuracy: 0.8994 - val_loss: 0.3264 - val_accuracy: 0.8995\n",
      "Epoch 2/100\n",
      "14011/14011 [==============================] - 2s 172us/sample - loss: 0.3270 - accuracy: 0.8994 - val_loss: 0.3263 - val_accuracy: 0.8995\n",
      "Epoch 3/100\n",
      "14011/14011 [==============================] - 3s 188us/sample - loss: 0.3266 - accuracy: 0.8995 - val_loss: 0.3266 - val_accuracy: 0.8995\n",
      "Epoch 4/100\n",
      "14011/14011 [==============================] - 3s 195us/sample - loss: 0.3265 - accuracy: 0.8994 - val_loss: 0.3272 - val_accuracy: 0.8995\n",
      "Epoch 5/100\n",
      "14011/14011 [==============================] - 3s 198us/sample - loss: 0.3271 - accuracy: 0.8994 - val_loss: 0.3263 - val_accuracy: 0.8995\n",
      "Epoch 6/100\n",
      "14011/14011 [==============================] - 3s 197us/sample - loss: 0.3269 - accuracy: 0.8994 - val_loss: 0.3266 - val_accuracy: 0.8995\n",
      "Epoch 7/100\n",
      "14011/14011 [==============================] - 3s 194us/sample - loss: 0.3265 - accuracy: 0.8994 - val_loss: 0.3269 - val_accuracy: 0.8995\n",
      "Epoch 8/100\n",
      "14011/14011 [==============================] - 3s 187us/sample - loss: 0.3268 - accuracy: 0.8994 - val_loss: 0.3264 - val_accuracy: 0.8995\n",
      "Epoch 9/100\n",
      "14011/14011 [==============================] - 3s 186us/sample - loss: 0.3270 - accuracy: 0.8994 - val_loss: 0.3263 - val_accuracy: 0.8995\n",
      "Epoch 10/100\n",
      "14011/14011 [==============================] - 3s 191us/sample - loss: 0.3265 - accuracy: 0.8994 - val_loss: 0.3266 - val_accuracy: 0.8995\n",
      "hello 3\n",
      "Train on 14012 samples, validate on 3502 samples\n",
      "Epoch 1/100\n",
      "14012/14012 [==============================] - 3s 187us/sample - loss: 0.3271 - accuracy: 0.8993 - val_loss: 0.3263 - val_accuracy: 0.8995\n",
      "Epoch 2/100\n",
      "14012/14012 [==============================] - 3s 185us/sample - loss: 0.3268 - accuracy: 0.8994 - val_loss: 0.3264 - val_accuracy: 0.8995\n",
      "Epoch 3/100\n",
      "14012/14012 [==============================] - 3s 186us/sample - loss: 0.3267 - accuracy: 0.8994 - val_loss: 0.3267 - val_accuracy: 0.8995\n",
      "Epoch 4/100\n",
      "14012/14012 [==============================] - 3s 188us/sample - loss: 0.3269 - accuracy: 0.8994 - val_loss: 0.3263 - val_accuracy: 0.8995\n",
      "Epoch 5/100\n",
      "14012/14012 [==============================] - 3s 187us/sample - loss: 0.3266 - accuracy: 0.8994 - val_loss: 0.3272 - val_accuracy: 0.8995\n",
      "Epoch 6/100\n",
      "14012/14012 [==============================] - 3s 184us/sample - loss: 0.3267 - accuracy: 0.8994 - val_loss: 0.3265 - val_accuracy: 0.8995\n",
      "Epoch 7/100\n",
      "14012/14012 [==============================] - 3s 185us/sample - loss: 0.3269 - accuracy: 0.8994 - val_loss: 0.3263 - val_accuracy: 0.8995\n",
      "Epoch 8/100\n",
      "14012/14012 [==============================] - 3s 186us/sample - loss: 0.3267 - accuracy: 0.8994 - val_loss: 0.3266 - val_accuracy: 0.8995\n",
      "Epoch 9/100\n",
      "14012/14012 [==============================] - 3s 184us/sample - loss: 0.3268 - accuracy: 0.8994 - val_loss: 0.3263 - val_accuracy: 0.8995\n",
      "Epoch 10/100\n",
      "14012/14012 [==============================] - 3s 186us/sample - loss: 0.3267 - accuracy: 0.8995 - val_loss: 0.3265 - val_accuracy: 0.8995\n",
      "Epoch 11/100\n",
      "14012/14012 [==============================] - 3s 186us/sample - loss: 0.3269 - accuracy: 0.8994 - val_loss: 0.3277 - val_accuracy: 0.8995\n",
      "Epoch 12/100\n",
      "14012/14012 [==============================] - 3s 186us/sample - loss: 0.3272 - accuracy: 0.8994 - val_loss: 0.3267 - val_accuracy: 0.8995\n",
      "Epoch 13/100\n",
      "14012/14012 [==============================] - 3s 184us/sample - loss: 0.3266 - accuracy: 0.8994 - val_loss: 0.3264 - val_accuracy: 0.8995\n",
      "Epoch 14/100\n",
      "14012/14012 [==============================] - 3s 185us/sample - loss: 0.3269 - accuracy: 0.8994 - val_loss: 0.3263 - val_accuracy: 0.8995\n",
      "hello 4\n",
      "Train on 14012 samples, validate on 3502 samples\n",
      "Epoch 1/100\n",
      "14012/14012 [==============================] - 3s 186us/sample - loss: 0.3269 - accuracy: 0.8994 - val_loss: 0.3264 - val_accuracy: 0.8995\n",
      "Epoch 2/100\n",
      "14012/14012 [==============================] - 3s 185us/sample - loss: 0.3267 - accuracy: 0.8994 - val_loss: 0.3263 - val_accuracy: 0.8995\n",
      "Epoch 3/100\n",
      "14012/14012 [==============================] - 3s 193us/sample - loss: 0.3265 - accuracy: 0.8994 - val_loss: 0.3288 - val_accuracy: 0.8995\n",
      "Epoch 4/100\n",
      "14012/14012 [==============================] - 3s 189us/sample - loss: 0.3269 - accuracy: 0.8994 - val_loss: 0.3264 - val_accuracy: 0.8995\n",
      "Epoch 5/100\n",
      "14012/14012 [==============================] - 3s 187us/sample - loss: 0.3266 - accuracy: 0.8994 - val_loss: 0.3265 - val_accuracy: 0.8995\n",
      "Epoch 6/100\n",
      "14012/14012 [==============================] - 3s 199us/sample - loss: 0.3268 - accuracy: 0.8994 - val_loss: 0.3263 - val_accuracy: 0.8995\n",
      "Epoch 7/100\n",
      "14012/14012 [==============================] - 3s 214us/sample - loss: 0.3266 - accuracy: 0.8994 - val_loss: 0.3264 - val_accuracy: 0.8995\n",
      "Average accuracy was:  0.8994518820453967\n"
     ]
    }
   ],
   "source": [
    "lgbb = LogisticRegression()\n",
    "# ctb = CatBoostClassifier(verbose=False)\n",
    "\n",
    "# xgbb = xgb.XGBClassifier()\n",
    "\n",
    "n_split = 5\n",
    "avg1 = 0\n",
    "avg2 = 0\n",
    "count=0\n",
    "\n",
    "skf = StratifiedKFold(n_splits = n_split, shuffle = True)\n",
    "\n",
    "for train_index, test_index in skf.split(data_X, data_Y):\n",
    "    print(\"hello\", count)\n",
    "    count+=1\n",
    "   \n",
    "    trainx, testx = data_X[train_index], data_X[test_index]\n",
    "    trainy, testy = data_Y[train_index], data_Y[test_index]\n",
    "    \n",
    "    model.fit(trainx, trainy,\n",
    "             validation_data=(testx, testy),\n",
    "             callbacks = [early_stopping], \n",
    "             epochs = 100)\n",
    "#     ctb.fit(trainx, trainy)\n",
    "    avg1 += accuracy_score(np.argmax(model.predict(testx), axis=1), testy)\n",
    "#     avg2 += accuracy_score(ctb.predict(testx), testy)\n",
    "\n",
    "\n",
    "print(\"Average accuracy was: \", avg1/n_split)#,\"and\", avg2/6)0"
   ]
  },
  {
   "cell_type": "code",
   "execution_count": 147,
   "metadata": {},
   "outputs": [
    {
     "data": {
      "text/plain": [
       "LGBMClassifier(boosting_type='gbdt', class_weight=None, colsample_bytree=1.0,\n",
       "               importance_type='split', learning_rate=0.1, max_depth=-1,\n",
       "               min_child_samples=20, min_child_weight=0.001, min_split_gain=0.0,\n",
       "               n_estimators=100, n_jobs=-1, num_leaves=31, objective=None,\n",
       "               random_state=None, reg_alpha=0.0, reg_lambda=0.0, silent=True,\n",
       "               subsample=1.0, subsample_for_bin=200000, subsample_freq=0)"
      ]
     },
     "execution_count": 147,
     "metadata": {},
     "output_type": "execute_result"
    }
   ],
   "source": [
    "lgbb = lgb.LGBMClassifier()\n",
    "lgbb.fit(train[thres_col].values, train['Col2'].values)"
   ]
  },
  {
   "cell_type": "code",
   "execution_count": 168,
   "metadata": {},
   "outputs": [],
   "source": [
    "result = lgbb.predict(test[thres_col].values)"
   ]
  },
  {
   "cell_type": "code",
   "execution_count": 105,
   "metadata": {},
   "outputs": [],
   "source": [
    "test_data = test[thres_col].values.tolist()"
   ]
  },
  {
   "cell_type": "code",
   "execution_count": 106,
   "metadata": {},
   "outputs": [],
   "source": [
    "for i in range(5):\n",
    "    test_data.append(test_data[-1])"
   ]
  },
  {
   "cell_type": "code",
   "execution_count": 113,
   "metadata": {},
   "outputs": [],
   "source": [
    "test_data = np.array(test_data)"
   ]
  },
  {
   "cell_type": "code",
   "execution_count": 122,
   "metadata": {},
   "outputs": [],
   "source": [
    "tdata_X = []\n",
    "for i in range(len(test_data) - 7):\n",
    "    # find the end of this pattern\n",
    "    end_ix = i + 0\n",
    "    out_end_ix = end_ix + 7\n",
    "    tdata_X.append(test_data[end_ix:out_end_ix, :])\n"
   ]
  },
  {
   "cell_type": "code",
   "execution_count": 124,
   "metadata": {},
   "outputs": [],
   "source": [
    "tdata_X.append(tdata_X[-1])\n",
    "tdata_X.append(tdata_X[-1])"
   ]
  },
  {
   "cell_type": "code",
   "execution_count": 128,
   "metadata": {},
   "outputs": [],
   "source": [
    "tdata_X = np.array(tdata_X)"
   ]
  },
  {
   "cell_type": "code",
   "execution_count": 129,
   "metadata": {},
   "outputs": [
    {
     "data": {
      "text/plain": [
       "(20442, 7, 166)"
      ]
     },
     "execution_count": 129,
     "metadata": {},
     "output_type": "execute_result"
    }
   ],
   "source": [
    "tdata_X.shape"
   ]
  },
  {
   "cell_type": "code",
   "execution_count": 130,
   "metadata": {},
   "outputs": [
    {
     "data": {
      "text/plain": [
       "(20442, 2394)"
      ]
     },
     "execution_count": 130,
     "metadata": {},
     "output_type": "execute_result"
    }
   ],
   "source": [
    "test.shape"
   ]
  },
  {
   "cell_type": "code",
   "execution_count": 132,
   "metadata": {},
   "outputs": [
    {
     "name": "stdout",
     "output_type": "stream",
     "text": [
      "Train on 17514 samples\n",
      "Epoch 1/7\n",
      "17514/17514 [==============================] - 3s 166us/sample - loss: 0.3266 - accuracy: 0.8995\n",
      "Epoch 2/7\n",
      "17514/17514 [==============================] - 3s 164us/sample - loss: 0.3265 - accuracy: 0.8995\n",
      "Epoch 3/7\n",
      "17514/17514 [==============================] - 3s 165us/sample - loss: 0.3267 - accuracy: 0.8995\n",
      "Epoch 4/7\n",
      "17514/17514 [==============================] - 3s 165us/sample - loss: 0.3268 - accuracy: 0.8995\n",
      "Epoch 5/7\n",
      "17514/17514 [==============================] - 3s 164us/sample - loss: 0.3267 - accuracy: 0.8995\n",
      "Epoch 6/7\n",
      "17514/17514 [==============================] - 3s 166us/sample - loss: 0.3267 - accuracy: 0.8995\n",
      "Epoch 7/7\n",
      "17514/17514 [==============================] - 3s 164us/sample - loss: 0.3263 - accuracy: 0.8995\n"
     ]
    },
    {
     "data": {
      "text/plain": [
       "<tensorflow.python.keras.callbacks.History at 0x7f2929f57048>"
      ]
     },
     "execution_count": 132,
     "metadata": {},
     "output_type": "execute_result"
    }
   ],
   "source": [
    "model.fit(data_X, data_Y, epochs=7)"
   ]
  },
  {
   "cell_type": "code",
   "execution_count": 136,
   "metadata": {},
   "outputs": [],
   "source": [
    "result = model.predict(tdata_X).argmax(axis=1)"
   ]
  },
  {
   "cell_type": "code",
   "execution_count": 139,
   "metadata": {},
   "outputs": [
    {
     "data": {
      "text/plain": [
       "(array([0]), array([20442]))"
      ]
     },
     "execution_count": 139,
     "metadata": {},
     "output_type": "execute_result"
    }
   ],
   "source": [
    "np.unique(result, return_counts=True)"
   ]
  },
  {
   "cell_type": "code",
   "execution_count": 169,
   "metadata": {},
   "outputs": [],
   "source": [
    "submission = pd.DataFrame()\n",
    "submission['Col1'] = test['Col1']\n",
    "submission['Col2'] = result"
   ]
  },
  {
   "cell_type": "code",
   "execution_count": 170,
   "metadata": {},
   "outputs": [],
   "source": [
    "submission.to_csv('submission.csv', index=False)"
   ]
  },
  {
   "cell_type": "code",
   "execution_count": 171,
   "metadata": {},
   "outputs": [
    {
     "data": {
      "text/html": [
       "<div>\n",
       "<style scoped>\n",
       "    .dataframe tbody tr th:only-of-type {\n",
       "        vertical-align: middle;\n",
       "    }\n",
       "\n",
       "    .dataframe tbody tr th {\n",
       "        vertical-align: top;\n",
       "    }\n",
       "\n",
       "    .dataframe thead th {\n",
       "        text-align: right;\n",
       "    }\n",
       "</style>\n",
       "<table border=\"1\" class=\"dataframe\">\n",
       "  <thead>\n",
       "    <tr style=\"text-align: right;\">\n",
       "      <th></th>\n",
       "      <th>Col1</th>\n",
       "      <th>Col2</th>\n",
       "    </tr>\n",
       "  </thead>\n",
       "  <tbody>\n",
       "    <tr>\n",
       "      <th>0</th>\n",
       "      <td>RIGD58ZWD</td>\n",
       "      <td>0</td>\n",
       "    </tr>\n",
       "    <tr>\n",
       "      <th>1</th>\n",
       "      <td>RIH660YDS</td>\n",
       "      <td>0</td>\n",
       "    </tr>\n",
       "    <tr>\n",
       "      <th>2</th>\n",
       "      <td>RIH660Q96</td>\n",
       "      <td>0</td>\n",
       "    </tr>\n",
       "    <tr>\n",
       "      <th>3</th>\n",
       "      <td>RIYDO15W1</td>\n",
       "      <td>0</td>\n",
       "    </tr>\n",
       "    <tr>\n",
       "      <th>4</th>\n",
       "      <td>RIYBGC1ZD</td>\n",
       "      <td>0</td>\n",
       "    </tr>\n",
       "  </tbody>\n",
       "</table>\n",
       "</div>"
      ],
      "text/plain": [
       "        Col1  Col2\n",
       "0  RIGD58ZWD     0\n",
       "1  RIH660YDS     0\n",
       "2  RIH660Q96     0\n",
       "3  RIYDO15W1     0\n",
       "4  RIYBGC1ZD     0"
      ]
     },
     "execution_count": 171,
     "metadata": {},
     "output_type": "execute_result"
    }
   ],
   "source": [
    "submission.head()"
   ]
  },
  {
   "cell_type": "code",
   "execution_count": null,
   "metadata": {},
   "outputs": [],
   "source": []
  }
 ],
 "metadata": {
  "kernelspec": {
   "display_name": "Python 3",
   "language": "python",
   "name": "python3"
  },
  "language_info": {
   "codemirror_mode": {
    "name": "ipython",
    "version": 3
   },
   "file_extension": ".py",
   "mimetype": "text/x-python",
   "name": "python",
   "nbconvert_exporter": "python",
   "pygments_lexer": "ipython3",
   "version": "3.5.6"
  }
 },
 "nbformat": 4,
 "nbformat_minor": 4
}
